{
 "cells": [
  {
   "cell_type": "markdown",
   "metadata": {},
   "source": [
    "> # Programação Orientada a Objetos II<br/>\n",
    "> ## Exercícios - Lista de Exercícios 2<br/>\n",
    "> #### Aluna: Mariana dos Santos Dick\n",
    "> #### Data: Nov/2021\n",
    "<br/>"
   ]
  },
  {
   "cell_type": "markdown",
   "metadata": {},
   "source": [
    "### Exercício 1"
   ]
  },
  {
   "cell_type": "code",
   "execution_count": null,
   "metadata": {},
   "outputs": [],
   "source": [
    "'''Exercício 1: Faça um Programa que leia um vetor de 5 números inteiros e mostre-os.'''\n",
    "\n",
    "vetor = [int(x) for x in input().split()]\n",
    "\n",
    "for item in vetor:\n",
    "    print(item, end=' ')"
   ]
  },
  {
   "cell_type": "markdown",
   "metadata": {},
   "source": [
    "<br/>\n",
    "\n",
    "### Exercício 2"
   ]
  },
  {
   "cell_type": "code",
   "execution_count": null,
   "metadata": {},
   "outputs": [],
   "source": [
    "'''Exercício 2:  Faça um Programa que leia um vetor de 10 números reais e mostre-os na\n",
    "ordem inversa.'''\n",
    "\n",
    "vetor = [float(x) for x in input().split()]\n",
    "vetor.reverse()\n",
    "\n",
    "for item in vetor:\n",
    "    print(f'{item:.2f}', end=' ')"
   ]
  },
  {
   "cell_type": "markdown",
   "metadata": {},
   "source": [
    "<br/>\n",
    "\n",
    "### Exercício 3"
   ]
  },
  {
   "cell_type": "code",
   "execution_count": null,
   "metadata": {},
   "outputs": [],
   "source": [
    "'''Exercício 3:  Faça um Programa que leia 4 notas, mostre as notas e a média na tela.'''\n",
    "\n",
    "notas = []\n",
    "media = 0\n",
    "\n",
    "for _ in range(4):\n",
    "    nota = int(input('Digite uma nota: '))\n",
    "    notas.append(str(nota))\n",
    "    media += nota\n",
    "\n",
    "media = media/4\n",
    "\n",
    "print('Notas: ', ', '.join(notas))\n",
    "print(f'Média: {media:.2f}')"
   ]
  },
  {
   "cell_type": "markdown",
   "metadata": {},
   "source": [
    "<br/>\n",
    "\n",
    "### Exercício 4"
   ]
  },
  {
   "cell_type": "code",
   "execution_count": null,
   "metadata": {},
   "outputs": [],
   "source": [
    "'''Exercício 4: Faça um Programa que leia um vetor de 10 caracteres, e diga quantas\n",
    "consoantes foram lidas. Imprima as consoantes.'''\n",
    "\n",
    "#Vou considerar as repetidas também, mas poderia ter utilizado set para contar apenas as consoantes únicas.\n",
    "\n",
    "vogais = ['a', 'e', 'i', 'o', 'u']\n",
    "consoantes_lidas = []\n",
    "\n",
    "vetor = [str(x).lower() for x in input().split()]\n",
    "\n",
    "for item in vetor:\n",
    "    if item not in vogais:\n",
    "        consoantes_lidas.append(item)\n",
    "\n",
    "if len(consoantes_lidas) == 0:\n",
    "    print('Não encontramos nenhuma consoante.')\n",
    "else:\n",
    "    print(f'As {len(consoantes_lidas)} consoantes lidas foram:')\n",
    "    print(', '.join(consoantes_lidas))"
   ]
  },
  {
   "cell_type": "markdown",
   "metadata": {},
   "source": [
    "<br/>\n",
    "\n",
    "### Exercício 5"
   ]
  },
  {
   "cell_type": "code",
   "execution_count": null,
   "metadata": {},
   "outputs": [],
   "source": [
    "'''Exercício 5: Faça um Programa que leia 20 números inteiros e armazene-os num\n",
    "vetor. Armazene os números pares no vetor PAR e os números IMPARES no vetor\n",
    "impar. Imprima os três vetores.'''\n",
    "\n",
    "vetor = [int(x) for x in input().split()]\n",
    "\n",
    "pares = list(filter(lambda x: x % 2 == 0, vetor))\n",
    "impares = list(filter(lambda x: x % 2 == 1, vetor))\n",
    "\n",
    "print(f'Vetor de entrada {vetor}')\n",
    "print(f'Pares: {pares}')\n",
    "print(f'Impares: {impares}')"
   ]
  },
  {
   "cell_type": "markdown",
   "metadata": {},
   "source": [
    "<br/>\n",
    "\n",
    "### Exercício 6"
   ]
  },
  {
   "cell_type": "code",
   "execution_count": null,
   "metadata": {},
   "outputs": [],
   "source": [
    "'''Exercício 6: Faça um Programa que peça as quatro notas de 10 alunos, calcule e\n",
    "armazene num vetor a média de cada aluno, imprima o número de alunos com média\n",
    "maior ou igual a 7.0.'''\n",
    "\n",
    "count = 0\n",
    "notas = []\n",
    "\n",
    "for _ in range(10):\n",
    "    media = 0\n",
    "    for _ in range(4):\n",
    "        nota = float(input('Digite uma nota:'))\n",
    "        media += nota\n",
    "    media = media/4\n",
    "    notas.append(media)\n",
    "    if (media >= 7.0):\n",
    "        count += 1\n",
    "\n",
    "print(f'Vetor com as notas dos alunos: {notas}')\n",
    "print(f'Num de alunos que possuem média >= 7.0: {count}')"
   ]
  },
  {
   "cell_type": "markdown",
   "metadata": {},
   "source": [
    "<br/>\n",
    "\n",
    "### Exercício 7"
   ]
  },
  {
   "cell_type": "code",
   "execution_count": null,
   "metadata": {},
   "outputs": [],
   "source": [
    "'''Exercício 7: Faça um Programa que leia um vetor de 5 números inteiros, mostre a\n",
    "soma, a multiplicação e os números.'''\n",
    "\n",
    "import functools\n",
    "\n",
    "vetor = [int(x) for x in input().split()]\n",
    "soma = functools.reduce(lambda a, b: a+b, vetor)\n",
    "mult = functools.reduce(lambda a, b: a*b, vetor)\n",
    "\n",
    "print(f'Números: {vetor}')\n",
    "print(f'Soma: {soma}')\n",
    "print(f'Multiplicação: {mult}')"
   ]
  },
  {
   "cell_type": "markdown",
   "metadata": {},
   "source": [
    "<br/>\n",
    "\n",
    "### Exercício 8"
   ]
  },
  {
   "cell_type": "code",
   "execution_count": null,
   "metadata": {},
   "outputs": [],
   "source": [
    "'''Exercício 8: Faça um Programa que peça a idade e a altura de 5 pessoas, armazene\n",
    "cada informação no seu respectivo vetor. Imprima a idade e a altura na ordem inversa\n",
    "a ordem lida.'''\n",
    "\n",
    "idades = []\n",
    "alturas = []\n",
    "\n",
    "for _ in range(5):\n",
    "    altura = float(input('Qual sua altura? '))\n",
    "    alturas.append(altura)\n",
    "    idade = int(input('Qual sua idade? '))\n",
    "    idades.append(idade)\n",
    "\n",
    "idades.reverse()\n",
    "alturas.reverse()\n",
    "\n",
    "print(f'Idades: {idades}')\n",
    "print(f'Alturas: {alturas}')"
   ]
  },
  {
   "cell_type": "markdown",
   "metadata": {},
   "source": [
    "<br/>\n",
    "\n",
    "### Exercício 9"
   ]
  },
  {
   "cell_type": "code",
   "execution_count": null,
   "metadata": {},
   "outputs": [],
   "source": [
    "'''Exercício 9: Faça um Programa que leia um vetor A com 10 números inteiros, calcule\n",
    "e mostre a soma dos quadrados dos elementos do vetor.'''\n",
    "\n",
    "vetor = [int(x) for x in input().split()]\n",
    "soma_dos_quadrados = 0\n",
    "\n",
    "for item in vetor:\n",
    "    soma_dos_quadrados += ((item)**2)\n",
    "\n",
    "print(f'A soma dos quadrados dos itens do vetor é: {soma_dos_quadrados}')"
   ]
  },
  {
   "cell_type": "markdown",
   "metadata": {},
   "source": [
    "<br/>\n",
    "\n",
    "### Exercício 10"
   ]
  },
  {
   "cell_type": "code",
   "execution_count": null,
   "metadata": {},
   "outputs": [],
   "source": [
    "'''Exercício 10: Faça um Programa que leia dois vetores com 10 elementos cada. Gere\n",
    "um terceiro vetor de 20 elementos, cujos valores deverão ser compostos pelos\n",
    "elementos intercalados dos dois outros vetores.'''\n",
    "\n",
    "vetor1 = [int(x) for x in input().split()]\n",
    "vetor2 = [int(x) for x in input().split()]\n",
    "vetor3 = [*sum(zip(vetor1,vetor2),())]\n",
    "\n",
    "print(f'Primeiro vetor: {vetor1}')\n",
    "print(f'Segundo vetor: {vetor2}')\n",
    "print(f'Vetor intercalado: {vetor3}')"
   ]
  }
 ],
 "metadata": {
  "interpreter": {
   "hash": "916dbcbb3f70747c44a77c7bcd40155683ae19c65e1c03b4aa3499c5328201f1"
  },
  "kernelspec": {
   "display_name": "Python 3.8.10 64-bit",
   "language": "python",
   "name": "python3"
  },
  "language_info": {
   "codemirror_mode": {
    "name": "ipython",
    "version": 3
   },
   "file_extension": ".py",
   "mimetype": "text/x-python",
   "name": "python",
   "nbconvert_exporter": "python",
   "pygments_lexer": "ipython3",
   "version": "3.8.10"
  },
  "orig_nbformat": 4
 },
 "nbformat": 4,
 "nbformat_minor": 2
}
