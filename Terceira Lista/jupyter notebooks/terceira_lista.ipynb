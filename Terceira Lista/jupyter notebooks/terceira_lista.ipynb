{
 "cells": [
  {
   "cell_type": "markdown",
   "metadata": {},
   "source": [
    "> # Programação Orientada a Objetos II<br/>\n",
    "> ## Exercícios - Lista de Exercícios 3<br/>\n",
    "> #### Aluna: Mariana dos Santos Dick\n",
    "> #### Data: Dez/2021\n",
    "<br/>"
   ]
  },
  {
   "cell_type": "markdown",
   "metadata": {},
   "source": [
    "### Exercício 1"
   ]
  },
  {
   "cell_type": "code",
   "execution_count": null,
   "metadata": {},
   "outputs": [],
   "source": [
    "'''Exercício 1: Escreva uma função que conta a frequência de ocorrência de cada\n",
    "palavra em um texto (arquivo txt) e armazena tal quantidade em um dicionário, onde a\n",
    "chave é a palavra considerada.'''\n",
    "\n",
    "dicionario = {}\n",
    "\n",
    "file = open(r'C:\\Users\\maria\\Desktop\\POO-2\\Terceira Lista\\exercicio_1.txt')\n",
    "texto = file.read().lower()\n",
    "\n",
    "texto = texto.replace(',', '')\n",
    "texto = texto.replace('.', '')\n",
    "palavras = texto.split()\n",
    "\n",
    "for palavra in palavras:\n",
    "    if palavra not in dicionario:\n",
    "        dicionario[palavra] = palavras.count(palavra)\n",
    "\n",
    "print(dicionario)\n",
    "print(f'Tamanho do dicionário: {len(dicionario)}')"
   ]
  },
  {
   "cell_type": "markdown",
   "metadata": {},
   "source": [
    "<br/>\n",
    "\n",
    "### Exercício 2"
   ]
  },
  {
   "cell_type": "code",
   "execution_count": null,
   "metadata": {},
   "outputs": [],
   "source": [
    "'''Exercicio 2: Escreva uma função que apaga do dicionário anterior, todas as palavras\n",
    "que sejam ‘stopwords’. Ver https://gist.github.com/alopes/5358189'''\n",
    "\n",
    "from exercicio_1 import dicionario\n",
    "\n",
    "file = open(r'C:\\Users\\maria\\Desktop\\POO-2\\Terceira Lista\\exercicio_2.txt')\n",
    "stopwords = file.read().split()\n",
    "\n",
    "for stopword in stopwords:\n",
    "    if stopword in dicionario:\n",
    "        del dicionario[stopword]\n",
    "\n",
    "print(dicionario)\n",
    "print(f'Tamanho do dicionário: {len(dicionario)}')"
   ]
  },
  {
   "cell_type": "markdown",
   "metadata": {},
   "source": [
    "<br/>\n",
    "\n",
    "### Exercício 3"
   ]
  },
  {
   "cell_type": "code",
   "execution_count": null,
   "metadata": {},
   "outputs": [],
   "source": [
    "'''Exercicio 3: Escreva um programa que lê duas notas de vários alunos e armazena tais\n",
    "notas em um dicionário, onde a chave é o nome do aluno. A entrada de dados deve\n",
    "terminar quando for lida uma string vazia como nome. Escreva uma função que retorna\n",
    "a média do aluno, dado seu nome.'''\n",
    "\n",
    "notas = {}\n",
    "\n",
    "def cadastro_de_notas():\n",
    "    while True: \n",
    "        nome = input('Insira o nome do aluno: ')\n",
    "        if (nome == ''):\n",
    "            break\n",
    "\n",
    "        if nome not in notas.keys():\n",
    "            nota1 = int(input(f'Insira a primeira nota de {nome}: '))\n",
    "            nota2 = int(input(f'Insira a segunda nota de {nome}: '))\n",
    "            notas[nome] = [nota1, nota2]\n",
    "        else:\n",
    "            print('As notas já foram cadastradas')\n",
    "\n",
    "def retorna_media(nome):\n",
    "    if nome in notas:\n",
    "        media = (notas[nome][0] + notas[nome][1])/2\n",
    "        return f'A média de {nome} é {media}!'\n",
    "    else:\n",
    "        return 'As notas não foram cadastradas'      \n",
    "\n",
    "def main():\n",
    "    cadastro_de_notas()\n",
    "    print(retorna_media('Mariana'))\n",
    "\n",
    "main()"
   ]
  },
  {
   "cell_type": "markdown",
   "metadata": {},
   "source": [
    "<br/>\n",
    "\n",
    "### Exercício 4"
   ]
  },
  {
   "cell_type": "code",
   "execution_count": null,
   "metadata": {},
   "outputs": [],
   "source": [
    "'''Exercicio 4: Uma pista de Kart permite 10 voltas para cada um de 6 corredores.\n",
    "Escreva um programa que leia todos os tempos em segundos e os guarde em um\n",
    "dicionário, onde a chave é o nome do corredor. Ao final diga de quem foi a melhor volta\n",
    "da prova e em que volta; e ainda a classificação final em ordem (1o o campeão). O\n",
    "campeão é o que tem a menor média de tempos.'''\n",
    "\n",
    "resultados = {}\n",
    "classificacao = {}\n",
    "menor_volta = [99999, 0, 0]\n",
    "\n",
    "def leitura_dos_dados():\n",
    "    for _ in range(0, 6):\n",
    "        nome_corredor = input('Insira o nome do corredor: ')\n",
    "        count = 0\n",
    "        media = 0\n",
    "        resultados[nome_corredor] = []\n",
    "\n",
    "        for _ in range(0, 10):\n",
    "            count += 1\n",
    "            volta = int(input(f'Insira o resultado (em segundos) da {count} volta: '))\n",
    "            resultados[nome_corredor].append(volta)\n",
    "            if volta < menor_volta[0]:\n",
    "                menor_volta[0] = volta\n",
    "                menor_volta[1] = count\n",
    "                menor_volta[2] = nome_corredor\n",
    "            media += volta\n",
    "            classificacao[nome_corredor] = media\n",
    "\n",
    "    return resultados\n",
    "\n",
    "def classificacao_final():\n",
    "    sort_classificacao = sorted(classificacao.items(), key=lambda x: x[1])\n",
    "    count = 0\n",
    "    for corredor in sort_classificacao:\n",
    "        count += 1\n",
    "        print(f'Em {count}o lugar: {corredor[0]}, com uma média de {(corredor[1]/10)} segundos.')\n",
    "    \n",
    "def imprime_menor_volta():\n",
    "    print(f'A menor volta foi de {menor_volta[0]} s, na {menor_volta[1]} volta de {menor_volta[2]}')\n",
    "\n",
    "def main():\n",
    "    print(leitura_dos_dados())\n",
    "    classificacao_final()\n",
    "    imprime_menor_volta()\n",
    "\n",
    "main()\n"
   ]
  },
  {
   "cell_type": "markdown",
   "metadata": {},
   "source": [
    "<br/>\n",
    "\n",
    "### Exercício 5"
   ]
  },
  {
   "cell_type": "code",
   "execution_count": null,
   "metadata": {},
   "outputs": [],
   "source": [
    "'''Exercicio 5: Escreva um programa para armazenar uma agenda de telefones usando\n",
    "um dicionário. Cada pessoa pode ter um ou mais telefones e a chave do dicionário é o\n",
    "nome completo da pessoa. Seu programa deve ter as seguintes funções:\n",
    "incluir_novo_nome – essa função acrescenta um novo nome na agenda, com\n",
    "um ou mais telefones. Ela deve receber como argumentos o nome e os telefones.\n",
    "incluir_telefone – essa função acrescenta um telefone em um nome existente na\n",
    "agenda. Caso o nome não exista na agenda, você deve perguntar se a pessoa deseja\n",
    "incluí-lo. Caso a resposta seja afirmativa, use a função anterior para incluir o novo\n",
    "nome. \n",
    "excluir_telefone – essa função exclui um telefone de uma pessoa que\n",
    "já está na agenda. Se a pessoa tiver apenas um telefone, ela deve ser excluída da\n",
    "agenda.\n",
    "excluir_nome – essa função exclui uma pessoa da agenda.\n",
    "consultar_telefone – essa função retorna os telefones de uma pessoa\n",
    "na agenda'''\n",
    "\n",
    "agenda = {}\n",
    "\n",
    "def incluir_novo_nome(nome, telefones=[]):\n",
    "    agenda[nome] = telefones\n",
    "\n",
    "def incluir_telefone(nome, telefone):\n",
    "    if nome in agenda.keys():\n",
    "        agenda[nome].append(telefone)\n",
    "    else:\n",
    "        incluir = input('Esse nome ainda não se encontra na agenda. Gostaria de incluí-lo? [sim/não]')\n",
    "        if incluir == 'sim':\n",
    "            incluir_novo_nome(nome, [telefone])\n",
    "\n",
    "def excluir_telefone(nome, telefone):\n",
    "    if telefone in agenda[nome]:\n",
    "        if len(agenda[nome]) > 1:\n",
    "            agenda[nome].remove(telefone)\n",
    "        else:\n",
    "            del agenda[nome]\n",
    "    else:\n",
    "        return 'Esse telefone não consta na agenda!'\n",
    "\n",
    "def excluir_nome(nome):\n",
    "    if nome in agenda.keys():\n",
    "        del agenda[nome]\n",
    "    else:\n",
    "        print('Pessoa não cadastrada na agenda')\n",
    "\n",
    "def consultar_telefone(nome):\n",
    "    if nome in agenda.keys():\n",
    "        print(f' Os telefones de {nome} são {agenda[nome]}')\n",
    "    else:\n",
    "        print('Pessoa não cadastrada na agenda')\n",
    "\n",
    "\n",
    "def main():\n",
    "    incluir_novo_nome('Mariana', [48, 51])\n",
    "    incluir_telefone('Mariana', 65)\n",
    "    consultar_telefone('Mariana')\n",
    "    excluir_telefone('Mariana', 65)\n",
    "    consultar_telefone('Mariana')\n",
    "    excluir_nome('Mariana')\n",
    "    consultar_telefone('Mariana')\n",
    "\n",
    "main()"
   ]
  }
 ],
 "metadata": {
  "interpreter": {
   "hash": "916dbcbb3f70747c44a77c7bcd40155683ae19c65e1c03b4aa3499c5328201f1"
  },
  "kernelspec": {
   "display_name": "Python 3.8.10 64-bit",
   "language": "python",
   "name": "python3"
  },
  "language_info": {
   "codemirror_mode": {
    "name": "ipython",
    "version": 3
   },
   "file_extension": ".py",
   "mimetype": "text/x-python",
   "name": "python",
   "nbconvert_exporter": "python",
   "pygments_lexer": "ipython3",
   "version": "3.8.10"
  },
  "orig_nbformat": 4
 },
 "nbformat": 4,
 "nbformat_minor": 2
}
